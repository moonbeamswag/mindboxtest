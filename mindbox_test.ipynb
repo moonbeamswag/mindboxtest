{
 "cells": [
  {
   "cell_type": "markdown",
   "metadata": {},
   "source": [
    "Нашей компании нужно сгруппировать клиентов для АБ-тестов. Алгоритм группировки очень простой - взять ID клиента (состоит из 5-7 цифр, например 7412567) и найти сумму всех его цифр. Получившееся число и является номером группы, в которую входит данный клиент.\n",
    "\n",
    "Для того, чтобы понять, насколько хорош такой простой алгоритм, тебе нужно написать следующие диагностические функции:\n",
    "\n",
    "1)Функция, которая подсчитывает число покупателей, попадающих в каждую группу, если нумерация ID сквозная и начинается с 0. На вход функция получает целое число n_customers (количество клиентов).\n",
    "\n",
    "2)Функция, аналогичная первой, если ID начинается с произвольного числа. На вход функция получает целые числа: n_customers (количество клиентов) и n_first_id (первый ID в последовательности)."
   ]
  },
  {
   "cell_type": "markdown",
   "metadata": {},
   "source": [
    "#### Задание 1"
   ]
  },
  {
   "cell_type": "code",
   "execution_count": 98,
   "metadata": {},
   "outputs": [],
   "source": [
    "def diagnostic_if_zero (n_customers):\n",
    "    sum_id = []\n",
    "    for i in range(n_customers+1):\n",
    "        nums = list(str(i))\n",
    "        int_nums = map(int, nums)\n",
    "        group_numb = sum(int_nums)\n",
    "        sum_id.append(group_numb)\n",
    "    \n",
    "    d = {a: 0 for a in set(sum_id)}\n",
    "    for i in sum_id:\n",
    "        d[i] += 1\n",
    "    return  d \n",
    "\n"
   ]
  },
  {
   "cell_type": "code",
   "execution_count": 105,
   "metadata": {},
   "outputs": [
    {
     "data": {
      "text/plain": [
       "{0: 1,\n",
       " 1: 3,\n",
       " 2: 6,\n",
       " 3: 9,\n",
       " 4: 12,\n",
       " 5: 15,\n",
       " 6: 18,\n",
       " 7: 19,\n",
       " 8: 21,\n",
       " 9: 23,\n",
       " 10: 23,\n",
       " 11: 21,\n",
       " 12: 18,\n",
       " 13: 15,\n",
       " 14: 12,\n",
       " 15: 9,\n",
       " 16: 7,\n",
       " 17: 5,\n",
       " 18: 3,\n",
       " 19: 1}"
      ]
     },
     "execution_count": 105,
     "metadata": {},
     "output_type": "execute_result"
    }
   ],
   "source": [
    "diagnostic_if_zero(240)"
   ]
  },
  {
   "cell_type": "markdown",
   "metadata": {},
   "source": [
    "#### Задание 2"
   ]
  },
  {
   "cell_type": "code",
   "execution_count": 100,
   "metadata": {},
   "outputs": [],
   "source": [
    "def diagnostic_if_random (n_customers, n_first_id):\n",
    "    sum_id = []\n",
    "    for i in range(n_first_id, n_customers+1, 1):\n",
    "        nums = list(str(i))\n",
    "        int_nums = map(int, nums)\n",
    "        group_numb = sum(int_nums)\n",
    "        sum_id.append(group_numb)\n",
    "    \n",
    "    max_group = max(sum_id)\n",
    "    min_group = min(sum_id)\n",
    "    d = {a: 0 for a in set(sum_id)}\n",
    "    for i in sum_id:\n",
    "        d[i] += 1\n",
    "   \n",
    "    return  d \n",
    "\n"
   ]
  },
  {
   "cell_type": "code",
   "execution_count": 104,
   "metadata": {},
   "outputs": [
    {
     "data": {
      "text/plain": [
       "{32: 1, 33: 1, 34: 1, 35: 1, 36: 1, 37: 1, 2: 1, 28: 1, 29: 1, 30: 1, 31: 1}"
      ]
     },
     "execution_count": 104,
     "metadata": {},
     "output_type": "execute_result"
    }
   ],
   "source": [
    "diagnostic_if_random(20000,19990)"
   ]
  },
  {
   "cell_type": "code",
   "execution_count": null,
   "metadata": {},
   "outputs": [],
   "source": []
  }
 ],
 "metadata": {
  "kernelspec": {
   "display_name": "Python 3.10.7 64-bit",
   "language": "python",
   "name": "python3"
  },
  "language_info": {
   "codemirror_mode": {
    "name": "ipython",
    "version": 3
   },
   "file_extension": ".py",
   "mimetype": "text/x-python",
   "name": "python",
   "nbconvert_exporter": "python",
   "pygments_lexer": "ipython3",
   "version": "3.10.7"
  },
  "orig_nbformat": 4,
  "vscode": {
   "interpreter": {
    "hash": "e7370f93d1d0cde622a1f8e1c04877d8463912d04d973331ad4851f04de6915a"
   }
  }
 },
 "nbformat": 4,
 "nbformat_minor": 2
}
